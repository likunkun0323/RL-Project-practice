{
 "cells": [
  {
   "cell_type": "code",
   "execution_count": null,
   "id": "08d7b13d",
   "metadata": {},
   "outputs": [],
   "source": [
    "from stable_baselines3 import A2C\n",
    "from stable_baselines3.common.env_util import make_atari_env\n",
    "from stable_baselines3.common.vec_env import VecFrameStack\n",
    "from stable_baselines3.common.callbacks import CheckpointCallback,EveryNTimesteps\n",
    "import gymnasium as gym\n",
    "import ale_py\n"
   ]
  },
  {
   "cell_type": "code",
   "execution_count": 40,
   "id": "120335ac",
   "metadata": {},
   "outputs": [
    {
     "name": "stdout",
     "output_type": "stream",
     "text": [
      "Looking in indexes: https://mirrors.ustc.edu.cn/pypi/web/simple\n",
      "Requirement already satisfied: ALE in d:\\miniconda flie\\envs\\rl\\lib\\site-packages (0.8.4)\n",
      "Note: you may need to restart the kernel to use updated packages.\n"
     ]
    }
   ],
   "source": [
    "%pip install ALE"
   ]
  },
  {
   "cell_type": "code",
   "execution_count": 41,
   "id": "c34fab67",
   "metadata": {},
   "outputs": [],
   "source": [
    "checkpoint_on_event=CheckpointCallback(save_freq=1,save_path='./checkpoint/')\n",
    "event_callback=EveryNTimesteps(n_steps=5000,callback=checkpoint_on_event)"
   ]
  },
  {
   "cell_type": "code",
   "execution_count": 42,
   "id": "67758a52",
   "metadata": {},
   "outputs": [
    {
     "name": "stdout",
     "output_type": "stream",
     "text": [
      "Looking in indexes: https://mirrors.ustc.edu.cn/pypi/web/simple\n",
      "Requirement already satisfied: ale-py in d:\\miniconda flie\\envs\\rl\\lib\\site-packages (0.10.2)\n",
      "Requirement already satisfied: numpy>1.20 in d:\\miniconda flie\\envs\\rl\\lib\\site-packages (from ale-py) (1.23.5)\n",
      "Requirement already satisfied: typing-extensions in d:\\miniconda flie\\envs\\rl\\lib\\site-packages (from ale-py) (4.13.2)\n",
      "Note: you may need to restart the kernel to use updated packages.\n"
     ]
    }
   ],
   "source": [
    "# Ensure the correct environment name is used\n",
    "# Ensure the correct environment name is used\n",
    "# Install the ALE package if not already installed\n",
    "%pip install ale-py\n",
    "\n",
    "# Ensure the correct environment name is used\n",
    "gym.make('ALE/Breakout-v5')\n",
    "env = make_atari_env('ALE/Breakout-v5', n_envs=16, seed=0)  # Ensure the environment is installed\n",
    "env = VecFrameStack(env, n_stack=4)"
   ]
  },
  {
   "cell_type": "code",
   "execution_count": 43,
   "id": "f107b679",
   "metadata": {},
   "outputs": [
    {
     "name": "stdout",
     "output_type": "stream",
     "text": [
      "Using cuda device\n",
      "Wrapping the env in a VecTransposeImage.\n"
     ]
    },
    {
     "ename": "AssertionError",
     "evalue": "OpenCV is not installed, you can do `pip install opencv-python`",
     
