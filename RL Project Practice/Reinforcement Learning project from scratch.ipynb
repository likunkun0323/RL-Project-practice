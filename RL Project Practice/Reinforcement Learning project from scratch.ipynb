{
 "cells": [
  {
   "cell_type": "markdown",
   "id": "cf8f72a6",
   "metadata": {},
   "source": [
    "# Simple Example"
   ]
  },
  {
   "cell_type": "code",
   "execution_count": 1,
   "id": "484a7cb2",
   "metadata": {},
   "outputs": [],
   "source": [
    "import os\n",
    "import gym\n",
    "from stable_baselines3.common.vec_env import DummyVecEnv\n",
    "from stable_baselines3 import PPO\n",
    "from stable_baselines3.common.evaluation import evaluate_policy\n"
   ]
  },
  {
   "cell_type": "code",
   "execution_count": 3,
   "id": "7363748c",
   "metadata": {},
   "outputs": [],
   "source": [
    "environment_name='CartPole-v1'\n",
    "env=gym.make(environment_name,new_step_api=True)"
   ]
  },
  {
   "cell_type": "code",
   "execution_count": 4,
   "id": "302d310a",
   "metadata": {},
   "outputs": [
    {
     "name": "stderr",
     "output_type": "stream",
     "text": [
      "d:\\miniconda flie\\envs\\RL\\lib\\site-packages\\gym\\core.py:49: DeprecationWarning: \u001b[33mWARN: You are calling render method, but you didn't specified the argument render_mode at environment initialization. To maintain backward compatibility, the environment will render in human mode.\n",
      "If you want to render in human mode, initialize the environment in this way: gym.make('EnvName', render_mode='human') and don't call the render method.\n",
      "See here for more information: https://www.gymlibrary.ml/content/api/\u001b[0m\n",
      "  deprecation(\n"
     ]
    },
    {
     "name": "stdout",
     "output_type": "stream",
     "text": [
      "Episode:0 Score:13.0\n",
      "Episode:1 Score:16.0\n",
      "Episode:2 Score:16.0\n",
      "Episode:3 Score:21.0\n",
      "Episode:4 Score:17.0\n",
      "Episode:5 Score:11.0\n",
      "Episode:6 Score:57.0\n",
      "Episode:7 Score:13.0\n",
      "Episode:8 Score:17.0\n",
      "Episode:9 Score:32.0\n",
      "Episode:10 Score:17.0\n",
      "Episode:11 Score:19.0\n",
      "Episode:12 Score:24.0\n",
      "Episode:13 Score:18.0\n",
      "Episode:14 Score:35.0\n",
      "Episode:15 Score:34.0\n",
      "Episode:16 Score:14.0\n",
      "Episode:17 Score:22.0\n",
      "Episode:18 Score:14.0\n",
      "Episode:19 Score:19.0\n",
      "Episode:20 Score:15.0\n"
     ]
    }
   ],
   "source": [
    "episodes=20\n",
    "for episode in range(episodes+1):\n",
    "    state=env.reset()\n",
    "    done=False\n",
    "    score=0\n",
    "\n",
    "    while not done:\n",
    "        gym.make(environment_name,render_mode='human',new_step_api='True')\n",
    "        env.render()\n",
    "        action=env.action_space.sample()\n",
    "        n_state,reward,done,info,_=env.step(action)\n",
    "        score+=reward\n",
    "    print('Episode:{} Score:{}'.format(episode,score))\n",
    "env.close()"
   ]
  },
  {
   "cell_type": "code",
   "execution_count": 5,
   "id": "9aa69718",
   "metadata": {},
   "outputs": [
    {
     "data": {
      "text/plain": [
       "Discrete(2)"
      ]
     },
     "execution_count": 5,
     "metadata": {},
     "output_type": "execute_result"
    }
   ],
   "source": [
    "env.action_space"
   ]
  },
  {
   "cell_type": "code",
   "execution_count": null,
   "id": "289b393f",
   "metadata": {},
   "outputs": [
    {
     "data": {
      "text/plain": [
       "Box([-4.8000002e+00 -3.4028235e+38 -4.1887903e-01 -3.4028235e+38], [4.8000002e+00 3.4028235e+38 4.1887903e-01 3.4028235e+38], (4,), float32)"
      ]
     },
     "execution_count": 6,
     "metadata": {},
     "output_type": "execute_result"
    }
   ],
   "source": [
    "env.observation_space\n",
    "'''\n",
    "cart position,cart velocity,pole angle,pole angle velocity\n",
    "'''"
   ]
  },
  {
   "cell_type": "markdown",
   "id": "40b8043e",
   "metadata": {},
   "source": [
    "# Training"
   ]
  },
  {
   "cell_type": "code",
   "execution_count": 6,
   "id": "43139e45",
   "metadata": {},
   "outputs": [],
   "source": [
    "log_path=os.path.join('Training','Logs')"
   ]
  },
  {
   "cell_type": "code",
   "execution_count": 7,
   "id": "6dd2f6d9",
   "metadata": {},
   "outputs": [
    {
     "name": "stdout",
     "output_type": "stream",
     "text": [
      "Using cuda device\n"
     ]
    },
    {
     "name": "stderr",
     "output_type": "stream",
     "text": [
      "d:\\miniconda flie\\envs\\RL\\lib\\site-packages\\stable_baselines3\\common\\on_policy_algorithm.py:150: UserWarning: You are trying to run PPO on the GPU, but it is primarily intended to run on the CPU when not using a CNN policy (you are using ActorCriticPolicy which should be a MlpPolicy). See https://github.com/DLR-RM/stable-baselines3/issues/1245 for more info. You can pass `device='cpu'` or `export CUDA_VISIBLE_DEVICES=` to force using the CPU.Note: The model will train, but the GPU utilization will be poor and the training might take longer than on CPU.\n",
      "  warnings.warn(\n"
     ]
    }
   ],
   "source": [
    "env=gym.make(environment_name)\n",
    "env=DummyVecEnv([lambda:env]) #vectorized wrapper\n",
    "model=PPO('MlpPolicy',env,verbose=1,tensorboard_log=log_path)"
   ]
  },
  {
   "cell_type": "code",
   "execution_count": null,
   "id": "cc229e4d",
   "metadata": {},
   "outputs": [],
   "source": [
    "model.learn(total_timesteps=10000)"
   ]
  },
  {
   "cell_type": "code",
   "execution_count": null,
   "id": "e0f942aa",
   "metadata": {},
   "outputs": [],
   "source": [
    "PPO_Path=os.path.join('Training','Saved Models','PPO_Model_Cartpole')"
   ]
  },
  {
   "cell_type": "code",
   "execution_count": null,
   "id": "4d86ba99",
   "metadata": {},
   "outputs": [],
   "source": []
  },
  {
   "cell_type": "code",
   "execution_count": null,
   "id": "fa1aa28e",
   "metadata": {},
   "outputs": [],
   "source": []
  },
  {
   "cell_type": "code",
   "execution_count": null,
   "id": "5e240484",
   "metadata": {},
   "outputs": [],
   "source": []
  },
  {
   "cell_type": "code",
   "execution_count": null,
   "id": "fcbc4371",
   "metadata": {},
   "outputs": [],
   "source": []
  },
  {
   "cell_type": "code",
   "execution_count": null,
   "id": "78dcd291",
   "metadata": {},
   "outputs": [],
   "source": []
  },
  {
   "cell_type": "code",
   "execution_count": null,
   "id": "424e4f3d",
   "metadata": {},
   "outputs": [],
   "source": []
  },
  {
   "cell_type": "code",
   "execution_count": null,
   "id": "efe23cf4",
   "metadata": {},
   "outputs": [],
   "source": []
  },
  {
   "cell_type": "code",
   "execution_count": null,
   "id": "31182928",
   "metadata": {},
   "outputs": [],
   "source": []
  }
 ],
 "metadata": {
  "kernelspec": {
   "display_name": "RL",
   "language": "python",
   "name": "python3"
  },
  "language_info": {
   "codemirror_mode": {
    "name": "ipython",
    "version": 3
   },
   "file_extension": ".py",
   "mimetype": "text/x-python",
   "name": "python",
   "nbconvert_exporter": "python",
   "pygments_lexer": "ipython3",
   "version": "3.10.16"
  }
 },
 "nbformat": 4,
 "nbformat_minor": 5
}
