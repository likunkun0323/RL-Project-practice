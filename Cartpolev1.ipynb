{
 "cells": [
  {
   "cell_type": "markdown",
   "id": "cf8f72a6",
   "metadata": {},
   "source": [
    "# Simple Example"
   ]
  },
  {
   "cell_type": "code",
   "execution_count": 16,
   "id": "484a7cb2",
   "metadata": {},
   "outputs": [],
   "source": [
    "import os\n",
    "import gym\n",
    "from stable_baselines3.common.vec_env import DummyVecEnv\n",
    "from stable_baselines3 import PPO\n",
    "from stable_baselines3.common.evaluation import evaluate_policy\n"
   ]
  },
  {
   "cell_type": "code",
   "execution_count": 24,
   "id": "7363748c",
   "metadata": {},
   "outputs": [],
   "source": [
    "environment_name='CartPole-v1'\n",
    "env=gym.make(environment_name,new_step_api=True)"
   ]
  },
  {
   "cell_type": "code",
   "execution_count": 18,
   "id": "302d310a",
   "metadata": {},
   "outputs": [
    {
     "name": "stderr",
     "output_type": "stream",
     "text": [
      "d:\\miniconda flie\\envs\\RL\\lib\\site-packages\\gym\\core.py:49: DeprecationWarning: \u001b[33mWARN: You are calling render method, but you didn't specified the argument render_mode at environment initialization. To maintain backward compatibility, the environment will render in human mode.\n",
      "If you want to render in human mode, initialize the environment in this way: gym.make('EnvName', render_mode='human') and don't call the render method.\n",
      "See here for more information: https://www.gymlibrary.ml/content/api/\u001b[0m\n",
      "  deprecation(\n"
     ]
    },
    {
     "name": "stdout",
     "output_type": "stream",
     "text": [
      "Episode:0 Score:13.0\n",
      "Episode:1 Score:36.0\n",
      "Episode:2 Score:20.0\n",
      "Episode:3 Score:19.0\n",
      "Episode:4 Score:13.0\n",
      "Episode:5 Score:10.0\n"
     ]
    }
   ],
   "source": [
    "episodes=5\n",
    "for episode in range(episodes+1):\n",
    "    state=env.reset()\n",
    "    done=False\n",
    "    score=0\n",
    "\n",
    "    while not done:\n",
    "        gym.make(environment_name,render_mode='human',new_step_api='True')\n",
    "        env.render()\n",
    "        action=env.action_space.sample()\n",
    "        n_state,reward,done,info,_=env.step(action)\n",
    "        score+=reward\n",
    "    print('Episode:{} Score:{}'.format(episode,score))\n",
    "env.close()"
   ]
  },
  {
   "cell_type": "code",
   "execution_count": 19,
   "id": "e829259e",
   "metadata": {},
   "outputs": [
    {
     "name": "stdout",
     "output_type": "stream",
     "text": [
      "<class 'int'>\n"
     ]
    }
   ],
   "source": [
    "print(type(action))"
   ]
  },
  {
   "cell_type": "markdown",
   "id": "40b8043e",
   "metadata": {},
   "source": [
    "## Training"
   ]
  },
  {
   "cell_type": "code",
   "execution_count": 30,
   "id": "43139e45",
   "metadata": {},
   "outputs": [],
   "source": [
    "log_path=os.path.join('Training','Logs')"
   ]
  },
  {
   "cell_type": "code",
   "execution_count": 31,
   "id": "6dd2f6d9",
   "metadata": {},
   "outputs": [
    {
     "name": "stdout",
     "output_type": "stream",
     "text": [
      "Using cuda device\n"
     ]
    }
   ],
   "source": [
    "env=gym.make(environment_name)\n",
    "env=DummyVecEnv([lambda:env]) #vectorized wrapper\n",
    "model=PPO('MlpPolicy',env,verbose=1,tensorboard_log=log_path)"
   ]
  },
  {
   "cell_type": "code",
   "execution_count": null,
   "id": "d29aca06",
   "metadata": {},
   "outputs": [],
   "source": []
  },
  {
   "cell_type": "code",
   "execution_count": null,
   "id": "cc229e4d",
   "metadata": {},
   "outputs": [],
   "source": [
    "\n",
    "\n",
    "model.learn(total_timesteps=1000)"
   ]
  },
  {
   "cell_type": "code",
   "execution_count": null,
   "id": "e0f942aa",
   "metadata": {},
   "outputs": [],
   "source": [
    "PPO_Path=os.path.join('Training','Saved Models','PPO_Model_Cartpole')"
   ]
  },
  {
   "cell_type": "code",
   "execution_count": null,
   "id": "4d86ba99",
   "metadata": {},
   "outputs": [],
   "source": [
    "model.save(PPO_Path)"
   ]
  },
  {
   "cell_type": "code",
   "execution_count": null,
   "id": "fa1aa28e",
   "metadata": {},
   "outputs": [],
   "source": [
    "del model"
   ]
  },
  {
   "cell_type": "code",
   "execution_count": null,
   "id": "5e240484",
   "metadata": {},
   "outputs": [],
   "source": [
    "model=PPO.load(PPO_Path,env=env)"
   ]
  },
  {
   "cell_type": "markdown",
   "id": "07cf5a6b",
   "metadata": {},
   "source": [
    "## Testing and Evaluation"
   ]
  },
  {
   "cell_type": "code",
   "execution_count": null,
   "id": "fcbc4371",
   "metadata": {},
   "outputs": [],
   "source": [
    "evaluate_policy(model,env,n_eval_episodes=10,render=True)"
   ]
  },
  {
   "cell_type": "code",
   "execution_count": null,
   "id": "78dcd291",
   "metadata": {},
   "outputs": [],
   "source": [
    "episodes=5\n",
    "for episode in range(episodes+1):\n",
    "    obs=env.reset()\n",
    "    done=False\n",
    "    score=0\n",
    "\n",
    "    while not done:\n",
    "        gym.make(environment_name,render_mode='human',new_step_api='True')\n",
    "        env.render()\n",
    "        action,_=model.predict(obs)\n",
    "        obs,reward,done,info,_=env.step(action)\n",
    "        score+=reward\n",
    "    print('Episode:{} Score:{}'.format(episode,score))\n",
    "env.close()"
   ]
  },
  {
   "cell_type": "code",
   "execution_count": null,
   "id": "424e4f3d",
   "metadata": {},
   "outputs": [],
   "source": [
    "#training_log_path=os.path.join(log_path,'PPO_1')\n",
    "%tensorboard --logdir={Training_log_path}"
   ]
  },
  {
   "cell_type": "markdown",
   "id": "f8962ce4",
   "metadata": {},
   "source": [
    "## Adding callback"
   ]
  },
  {
   "cell_type": "code",
   "execution_count": null,
   "id": "efe23cf4",
   "metadata": {},
   "outputs": [],
   "source": [
    "from stable_baselines3.common.callbacks import EvalCallback,StopTrainingOnRewardThreshold"
   ]
  },
  {
   "cell_type": "code",
   "execution_count": null,
   "id": "9d7f2b9b",
   "metadata": {},
   "outputs": [],
   "source": [
    "save_path=os.path.join('Training','Saved Model')"
   ]
  },
  {
   "cell_type": "code",
   "execution_count": null,
   "id": "31182928",
   "metadata": {},
   "outputs": [],
   "source": [
    "stop_callback=StopTrainingOnRewardThreshold(reward_threshold=200,verbose=1)\n",
    "eval_callback=EvalCallback(env,\n",
    "                           callback_on_new_best=stop_callback,\n",
    "                           eval_freq=10000,\n",
    "                           best_model_save_path=save_path,\n",
    "                           verbose=1)"
   ]
  },
  {
   "cell_type": "code",
   "execution_count": null,
   "id": "67ca07ac",
   "metadata": {},
   "outputs": [],
   "source": [
    "model=PPO('MlpPolicy',env,verbose=1,tensorboard_log=log_path)"
   ]
  },
  {
   "cell_type": "code",
   "execution_count": null,
   "id": "c1128be5",
   "metadata": {},
   "outputs": [],
   "source": [
    "model.learn(total_timesteps=20000,callback=eval_callback)"
   ]
  },
  {
   "cell_type": "markdown",
   "id": "efb43f31",
   "metadata": {},
   "source": [
    "## Alternative Algorithm"
   ]
  },
  {
   "cell_type": "code",
   "execution_count": null,
   "id": "b035332c",
   "metadata": {},
   "outputs": [],
   "source": [
    "from stable_baselines3 import DQN"
   ]
  },
  {
   "cell_type": "code",
   "execution_count": null,
   "id": "e9bd3d91",
   "metadata": {},
   "outputs": [],
   "source": [
    "model=DQN('MlpPolicy',env,verbose=1,tensorboard_log=log_path)"
   ]
  },
  {
   "cell_type": "code",
   "execution_count": null,
   "id": "57156058",
   "metadata": {},
   "outputs": [],
   "source": [
    "model.learn(total_timesteps=10000)"
   ]
  },
  {
   "cell_type": "code",
   "execution_count": null,
   "id": "28201fe2",
   "metadata": {},
   "outputs": [],
   "source": []
  }
 ],
 "metadata": {
  "kernelspec": {
   "display_name": "RL",
   "language": "python",
   "name": "python3"
  },
  "language_info": {
   "codemirror_mode": {
    "name": "ipython",
    "version": 3
   },
   "file_extension": ".py",
   "mimetype": "text/x-python",
   "name": "python",
   "nbconvert_exporter": "python",
   "pygments_lexer": "ipython3",
   "version": "3.10.16"
  }
 },
 "nbformat": 4,
 "nbformat_minor": 5
}
